{
 "cells": [
  {
   "cell_type": "code",
   "execution_count": 131,
   "metadata": {},
   "outputs": [],
   "source": [
    "import requests\n",
    "import urllib.request\n",
    "import urllib3\n",
    "import time\n",
    "from bs4 import BeautifulSoup\n",
    "import youtube_dl\n",
    "import random\n",
    "from pydub import AudioSegment"
   ]
  },
  {
   "cell_type": "code",
   "execution_count": 120,
   "metadata": {},
   "outputs": [],
   "source": [
    "type = 'eval' #balanced_train or eval \n",
    "label = 'music' #label "
   ]
  },
  {
   "cell_type": "code",
   "execution_count": 124,
   "metadata": {
    "scrolled": false
   },
   "outputs": [
    {
     "name": "stdout",
     "output_type": "stream",
     "text": [
      "2Dpz7l4-0iQ\n"
     ]
    }
   ],
   "source": [
    "from urllib.request import urlopen\n",
    "import re\n",
    "\n",
    "html = urlopen('https://storage.googleapis.com/audioset_website_data/youtube_corpus/v1/'+str(type)+'/'+str(label)+'/1.js')\n",
    "bs = BeautifulSoup(html, 'lxml')\n",
    "images = bs.find('p')\n",
    "images = images.text\n",
    "\n",
    "i = 0\n",
    "\n",
    "end = len(images)\n",
    "end = end - 35\n",
    "ids = []\n",
    "\n",
    "while i < end - 5:\n",
    "    if images[i] == ']' and images[i+1] == ']' and images[i+2] ==']' and images[i+3] == ',' :\n",
    "        ids.append(images[i+6:i+17])\n",
    "        i = i+18\n",
    "        \n",
    "    i = i+1\n",
    "    \n",
    "z = len(ids)\n",
    "\n",
    "ranvid = random.randint(0,z+1) # Gives you a random video out of all the available videos \n",
    "    \n",
    "print(ids[ranvid]) # The video chosen\n",
    "\n"
   ]
  },
  {
   "cell_type": "code",
   "execution_count": null,
   "metadata": {},
   "outputs": [
    {
     "name": "stdout",
     "output_type": "stream",
     "text": [
      "[youtube] 2Dpz7l4-0iQ: Downloading webpage\n",
      "[youtube] 2Dpz7l4-0iQ: Downloading video info webpage\n",
      "[download] Destination: 2Dpz7l4-0iQ.webm\n",
      "[download]  49.8% of 7.99MiB at  2.30MiB/s ETA 00:01 "
     ]
    }
   ],
   "source": [
    "link = 'https://www.youtube.com/watch?v=' + str(ids[ranvid])\n",
    "\n",
    "\n",
    "ydl_opts = {\n",
    "    'format': 'bestaudio/best',\n",
    "    'outtmpl': '%(id)s.%(ext)s',\n",
    "    \n",
    "    'postprocessors': [{\n",
    "        'key': 'FFmpegExtractAudio',\n",
    "        'preferredcodec': 'mp3',\n",
    "        'preferredquality': '192',\n",
    "    }],\n",
    "}\n",
    "\n",
    "with youtube_dl.YoutubeDL(ydl_opts) as ydl:\n",
    "    ydl.download([str(link)])\n",
    "    info = ydl.extract_info(str(link))\n",
    "     \n",
    "    eyedn = info['id'],\n",
    "    print(str(eyedn[0]) +'.mp3')\n",
    "    \n",
    "soundn = AudioSegment.from_mp3(str(eyedn[0]) +'.mp3')\n",
    "soundn.export(str(eyedn[0]) + '.wav', format=\"wav\")\n",
    "soundn = AudioSegment.from_wav(str(eyedn[0]) + '.wav')\n",
    "soundn = soundn[1000:3000]\n",
    "soundn.export(str(eyedn[0]) + '.wav', format=\"wav\")"
   ]
  }
 ],
 "metadata": {
  "kernelspec": {
   "display_name": "Python 3",
   "language": "python",
   "name": "python3"
  },
  "language_info": {
   "codemirror_mode": {
    "name": "ipython",
    "version": 3
   },
   "file_extension": ".py",
   "mimetype": "text/x-python",
   "name": "python",
   "nbconvert_exporter": "python",
   "pygments_lexer": "ipython3",
   "version": "3.6.7"
  }
 },
 "nbformat": 4,
 "nbformat_minor": 2
}
